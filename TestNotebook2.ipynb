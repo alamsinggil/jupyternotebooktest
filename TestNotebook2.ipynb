{
    "cells": [
        {
            "metadata": {
                "collapsed": true
            },
            "cell_type": "markdown",
            "source": "# My Jupyter Notebook on IBM Watson Studio"
        },
        {
            "metadata": {},
            "cell_type": "markdown",
            "source": "**Alam Inggil**"
        },
        {
            "metadata": {},
            "cell_type": "markdown",
            "source": "Machine Learning Engineer"
        },
        {
            "metadata": {},
            "cell_type": "markdown",
            "source": "*I am interested in data science because I think it is suitable for me, I am smart and excel in mathematics and conceptual things, also I am very passionate about research. I also have been working in STEM fields and do research since I was in university. And yes, I love something new. Data science is not only about a scope but it could be anything. Everything has data, and everything can be researched using Data Science.*"
        },
        {
            "metadata": {},
            "cell_type": "markdown",
            "source": "### Do you know why there are 0 and infinity concept exist? Can you explain the concept in an epistemological way? How it emerged out of nothingness in human's mind?"
        },
        {
            "metadata": {},
            "cell_type": "code",
            "source": "1/0.000000000000000000000000000000000000000000000000000000000000000000000000000000000000000000000000000000000000000000000000000000000000000000000000000000000000000000001",
            "execution_count": 9,
            "outputs": [
                {
                    "output_type": "execute_result",
                    "execution_count": 9,
                    "data": {
                        "text/plain": "1e+165"
                    },
                    "metadata": {}
                }
            ]
        },
        {
            "metadata": {},
            "cell_type": "markdown",
            "source": "#### Things I love \u02da \u0f18\u2661 \u22c6\uff61\u02da"
        },
        {
            "metadata": {},
            "cell_type": "markdown",
            "source": "<ul>\n  <li>philosophy</li>\n  <li>mathematics</li>\n  <li>physics</li>\n  <li>music</li>\n  <li>arts and aesthetics</li>\n  <li>STEM and social sciences</li>\n  <li>Barbie, Princesses, amd Faeries</li>\n</ul>  "
        },
        {
            "metadata": {},
            "cell_type": "markdown",
            "source": "#### Things I hate - ,,"
        },
        {
            "metadata": {},
            "cell_type": "markdown",
            "source": "<ol>\n  <li>fascists</li>\n  <li>annoying people</li>\n  <li>tone deaf people</li>\n</ol>"
        },
        {
            "metadata": {},
            "cell_type": "markdown",
            "source": "#### I really love Barbie \ud80c\udda9\u2661\ud80c\uddaa"
        },
        {
            "metadata": {},
            "cell_type": "markdown",
            "source": "<table>\n  <tr>\n    <th>Barbie Movie Tittle</th>\n    <th>Favourite Character</th>\n  </tr>\n  <tr>\n    <td>The Princess and The Pauper</td>\n    <td>Preminger</td>\n  </tr>\n  <tr>\n    <td>The Nutcracker</td> \n    <td>Nutcracker</td>\n  </tr>\n</table>"
        },
        {
            "metadata": {},
            "cell_type": "code",
            "source": "",
            "execution_count": null,
            "outputs": []
        }
    ],
    "metadata": {
        "kernelspec": {
            "name": "python3",
            "display_name": "Python 3.10",
            "language": "python"
        },
        "language_info": {
            "name": "python",
            "version": "3.10.13",
            "mimetype": "text/x-python",
            "codemirror_mode": {
                "name": "ipython",
                "version": 3
            },
            "pygments_lexer": "ipython3",
            "nbconvert_exporter": "python",
            "file_extension": ".py"
        }
    },
    "nbformat": 4,
    "nbformat_minor": 1
}